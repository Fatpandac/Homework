{
 "cells": [
  {
   "cell_type": "markdown",
   "metadata": {},
   "source": [
    "$y=1.567x+0.067+z, z \\in (0,0.01)$"
   ]
  },
  {
   "cell_type": "code",
   "execution_count": 1,
   "metadata": {},
   "outputs": [
    {
     "name": "stdout",
     "output_type": "stream",
     "text": [
      "times: 0, loss: 9.089009284537081, w: 1.045046088647364, n:0.0013391047164149445\n",
      "times: 50, loss: 0.0006714120833644642, w: 1.5670036488513324, n:0.04308104854259045\n",
      "times: 100, loss: 0.00017563407301258272, w: 1.5670036589191267, n:0.05828232476278313\n",
      "times: 150, loss: 0.00010988421345542973, w: 1.567003662585512, n:0.06381816866088677\n",
      "times: 200, loss: 0.00010116449628056803, w: 1.5670036639206986, n:0.06583415516230055\n",
      "times: 250, loss: 0.00010000809126127592, w: 1.567003664406933, n:0.066568316321591\n",
      "times: 300, loss: 9.985472934117847e-05, w: 1.5670036645840046, n:0.06683567555610608\n",
      "times: 350, loss: 9.983439055144388e-05, w: 1.5670036646484888, n:0.06693303968300916\n",
      "times: 400, loss: 9.983169323017997e-05, w: 1.567003664671972, n:0.06696849674595594\n",
      "times: 450, loss: 9.983133551263268e-05, w: 1.5670036646805239, n:0.0669814091332263\n",
      "times: 500, loss: 9.983128807228971e-05, w: 1.5670036646836383, n:0.06698611143316774\n",
      "times: 550, loss: 9.983128178077172e-05, w: 1.5670036646847725, n:0.06698782386823311\n",
      "times: 600, loss: 9.983128094639768e-05, w: 1.5670036646851855, n:0.066988447485163\n",
      "times: 650, loss: 9.983128083573878e-05, w: 1.5670036646853358, n:0.06698867458754092\n",
      "times: 700, loss: 9.983128082106742e-05, w: 1.5670036646853907, n:0.06698875729134122\n",
      "times: 750, loss: 9.983128081912094e-05, w: 1.5670036646854106, n:0.06698878740955766\n",
      "times: 800, loss: 9.983128081885969e-05, w: 1.5670036646854177, n:0.06698879837769899\n",
      "times: 850, loss: 9.983128081882738e-05, w: 1.5670036646854204, n:0.06698880237196356\n",
      "times: 900, loss: 9.983128081882092e-05, w: 1.5670036646854213, n:0.06698880382655356\n",
      "times: 950, loss: 9.983128081882105e-05, w: 1.5670036646854217, n:0.06698880435627105\n"
     ]
    },
    {
     "data": {
      "image/png": "[encoded data removed]",
      "text/plain": [
       "<Figure size 432x288 with 1 Axes>"
      ]
     },
     "metadata": {
      "needs_background": "light"
     },
     "output_type": "display_data"
    },
    {
     "name": "stdout",
     "output_type": "stream",
     "text": [
      "Final loss:9.983128081882055e-05, w: 1.567003664685422, b: 0.06698880454692331\n"
     ]
    }
   ],
   "source": [
    "import numpy as np\n",
    "import matplotlib.pyplot as plt\n",
    "\n",
    "def mse(b, w, points):\n",
    "    totalErr = 0\n",
    "    for i in range(0, len(points)):\n",
    "        x, y = points[i]\n",
    "        totalErr += (y - (w * x + b)) ** 2\n",
    "    \n",
    "    return totalErr / float(len(points))\n",
    "\n",
    "def step_gradient(b, w, points, lr):\n",
    "    b_gradient, w_gradient = 0, 0\n",
    "    M = float(len(points))\n",
    "    for i in  range(0, len(points)):\n",
    "        x, y = points[i]\n",
    "        b_gradient += (2/M) * ((w * x + b - y))\n",
    "        w_gradient += (2/M) * x * ((w * x + b) - y)\n",
    "    new_b = b - (lr * b_gradient)\n",
    "    new_w = w - (lr * w_gradient)\n",
    "    return [new_b, new_w]\n",
    "\n",
    "def gradient_descent(points, starting_b, starting_w, lr, times):\n",
    "    losses = []\n",
    "    b = starting_b\n",
    "    w = starting_w\n",
    "    for step in range(times):\n",
    "        b, w = step_gradient(b, w, np.array(points), lr)\n",
    "        loss = mse(b, w, points)\n",
    "        losses.append(loss)\n",
    "        if step%50 == 0:\n",
    "            print(f'times: {step}, loss: {loss}, w: {w}, n:{b}')\n",
    "    return b, w, losses\n",
    "\n",
    "def draw(losses):\n",
    "    y = losses\n",
    "    x = range(len(losses))\n",
    "    plt.plot(x, y)\n",
    "    plt.xlabel('Epoch')\n",
    "    plt.ylabel('MSE')\n",
    "    plt.show()\n",
    "\n",
    "def main():\n",
    "    lr = 0.01\n",
    "    init_b = 0\n",
    "    init_w = 0\n",
    "    times = 1000\n",
    "    losses = []\n",
    "    b, w, losses = gradient_descent(data, init_b, init_w, lr, times)\n",
    "    loss = mse(b, w, data)\n",
    "    draw(losses)\n",
    "    print(f'Final loss:{loss}, w: {w}, b: {b}')\n",
    "\n",
    "data = []\n",
    "for i in range(2000):\n",
    "    x = np.random.uniform(-10, 10)\n",
    "    eps = np.random.normal(0, 0.01)\n",
    "    y = 1.567 * x + 0.067 + eps\n",
    "    data.append([x, y])\n",
    "main()"
   ]
  },
  {
   "cell_type": "code",
   "execution_count": null,
   "metadata": {},
   "outputs": [],
   "source": []
  }
 ],
 "metadata": {
  "interpreter": {
   "hash": "b0fa6594d8f4cbf19f97940f81e996739fb7646882a419484c72d19e05852a7e"
  },
  "kernelspec": {
   "display_name": "Python 3.9.12 64-bit",
   "language": "python",
   "name": "python3"
  },
  "language_info": {
   "codemirror_mode": {
    "name": "ipython",
    "version": 3
   },
   "file_extension": ".py",
   "mimetype": "text/x-python",
   "name": "python",
   "nbconvert_exporter": "python",
   "pygments_lexer": "ipython3",
   "version": "3.9.12"
  },
  "orig_nbformat": 4
 },
 "nbformat": 4,
 "nbformat_minor": 2
}
