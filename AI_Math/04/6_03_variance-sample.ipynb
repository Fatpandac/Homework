{
 "cells": [
  {
   "cell_type": "markdown",
   "metadata": {},
   "source": [
    "示例 6.8 使用 var() 函数计算方差\n",
    "\n",
    "\\begin{align}\n",
    "var=\\frac{1}{n}\\sum_{k=1}^n(x_k - \\mu)^2\n",
    "\\end{align}"
   ]
  },
  {
   "cell_type": "code",
   "execution_count": 1,
   "metadata": {},
   "outputs": [
    {
     "name": "stdout",
     "output_type": "stream",
     "text": [
      "62.5\n",
      "2.5\n"
     ]
    }
   ],
   "source": [
    "import numpy as np\n",
    "\n",
    "# 用于计算方差的数据 x_1 = np.array([55,\n",
    "x_1 = np.array([55, 45, 60, 40]) \n",
    "x_2 = np.array([51, 49, 52, 48]) \n",
    "\n",
    "# 计算方差\n",
    "print(np.var(x_1))\n",
    "print(np.var(x_2))"
   ]
  },
  {
   "cell_type": "markdown",
   "metadata": {},
   "source": [
    "示例 6.9 使用 std() 函数计算标准差"
   ]
  },
  {
   "cell_type": "code",
   "execution_count": 2,
   "metadata": {},
   "outputs": [
    {
     "name": "stdout",
     "output_type": "stream",
     "text": [
      "7.905694150420948\n",
      "1.5811388300841898\n"
     ]
    }
   ],
   "source": [
    "import numpy as np\n",
    "\n",
    "# 用于获取标准差的数据\n",
    "x_1 = np.array([55, 45, 60, 40]) \n",
    "x_2 = np.array([51, 49, 52, 48]) \n",
    "\n",
    "# 计算标准差\n",
    "print(np.std(x_1))\n",
    "print(np.std(x_2))"
   ]
  },
  {
   "cell_type": "markdown",
   "metadata": {},
   "source": [
    "#### 问题\n",
    "　在示例 6.10 中，计算数组 x 的方差和标准差。"
   ]
  },
  {
   "cell_type": "markdown",
   "metadata": {},
   "source": [
    "示例 6.10 问题"
   ]
  },
  {
   "cell_type": "code",
   "execution_count": 1,
   "metadata": {},
   "outputs": [
    {
     "name": "stdout",
     "output_type": "stream",
     "text": [
      "2.5 1.5811388300841898\n"
     ]
    }
   ],
   "source": [
    "import numpy as np\n",
    "\n",
    "x = np.array([51, 49, 52, 48])  # 用于获取方差和标准差的数据\n",
    "\n",
    "# 方差和标准差\n",
    "print(np.var(x), np.std(x))\n"
   ]
  },
  {
   "cell_type": "code",
   "execution_count": null,
   "metadata": {},
   "outputs": [],
   "source": []
  }
 ],
 "metadata": {
  "kernelspec": {
   "display_name": "Python 3",
   "language": "python",
   "name": "python3"
  },
  "language_info": {
   "codemirror_mode": {
    "name": "ipython",
    "version": 3
   },
   "file_extension": ".py",
   "mimetype": "text/x-python",
   "name": "python",
   "nbconvert_exporter": "python",
   "pygments_lexer": "ipython3",
   "version": "3.7.0"
  }
 },
 "nbformat": 4,
 "nbformat_minor": 2
}
