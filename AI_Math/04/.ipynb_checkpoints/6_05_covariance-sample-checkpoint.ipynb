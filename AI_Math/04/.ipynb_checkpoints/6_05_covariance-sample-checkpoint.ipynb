{
 "cells": [
  {
   "cell_type": "markdown",
   "metadata": {},
   "source": [
    "示例 6.18 协方差与数据倾向"
   ]
  },
  {
   "cell_type": "code",
   "execution_count": 1,
   "metadata": {},
   "outputs": [
    {
     "name": "stdout",
     "output_type": "stream",
     "text": [
      "cov_xy 120.0\n",
      "cov_xz -160.0\n"
     ]
    },
    {
     "data": {
      "image/png": "[encoded data removed]",
      "text/plain": [
       "<Figure size 432x288 with 1 Axes>"
      ]
     },
     "metadata": {
      "needs_background": "light"
     },
     "output_type": "display_data"
    }
   ],
   "source": [
    "%matplotlib inline\n",
    "\n",
    "import numpy as np\n",
    "import matplotlib.pyplot as plt\n",
    " \n",
    "x = np.array([50, 70, 40, 60, 80])  # 数学得分\n",
    "y = np.array([60, 80, 50, 50, 70])   # 英语得分\n",
    "z = np.array([60, 40, 60, 40, 30])  # 语文得分\n",
    "\n",
    "cov_xy = np.average((x-np.average(x))*(y-np.average(y)))\n",
    "print(\"cov_xy\", cov_xy)\n",
    "\n",
    "cov_xz = np.average((x-np.average(x))*(z-np.average(z)))\n",
    "print(\"cov_xz\", cov_xz)\n",
    "\n",
    "plt.scatter(x, y, marker=\"o\", label=\"xy\", s=40)  # s为标记的大小\n",
    "plt.scatter(x, z, marker=\"x\", label=\"xz\", s=60)\n",
    "plt.legend()\n",
    "\n",
    "plt.xlabel(\"x\", size=14)\n",
    "plt.ylabel(\"y/z\", size=14)\n",
    "plt.grid()\n",
    "\n",
    "plt.show()"
   ]
  },
  {
   "cell_type": "markdown",
   "metadata": {},
   "source": [
    "问题\n",
    "　请补全示例 6.20 的代码，求出世界史和日本史成绩的协方差。"
   ]
  },
  {
   "cell_type": "markdown",
   "metadata": {},
   "source": [
    "示例 6.20 问题"
   ]
  },
  {
   "cell_type": "code",
   "execution_count": 1,
   "metadata": {},
   "outputs": [
    {
     "name": "stdout",
     "output_type": "stream",
     "text": [
      "--- cov_xy --- 380.0\n"
     ]
    },
    {
     "data": {
      "text/plain": [
       "<Figure size 640x480 with 1 Axes>"
      ]
     },
     "metadata": {},
     "output_type": "display_data"
    }
   ],
   "source": [
    "import numpy as np\n",
    "import matplotlib.pyplot as plt\n",
    " \n",
    "x = np.array([30, 70, 40, 60, 90])   # 世界史的成绩\n",
    "y = np.array([20, 60, 50, 40, 80])   # 日本史的成绩\n",
    "\n",
    "cov_xy = np.average((x-np.average(x))*(y-np.average(y)))    # （在此编写代码）协方差\n",
    "print(\"--- cov_xy ---\", cov_xy)\n",
    "\n",
    "plt.scatter(x, y, marker=\"o\", label=\"xy\", s=40)\n",
    "plt.legend()\n",
    "\n",
    "plt.xlabel(\"x\", size=14)\n",
    "plt.ylabel(\"y\", size=14)\n",
    "plt.grid()\n",
    "\n",
    "plt.show()"
   ]
  },
  {
   "cell_type": "code",
   "execution_count": null,
   "metadata": {},
   "outputs": [],
   "source": []
  }
 ],
 "metadata": {
  "kernelspec": {
   "display_name": "Python 3",
   "language": "python",
   "name": "python3"
  },
  "language_info": {
   "codemirror_mode": {
    "name": "ipython",
    "version": 3
   },
   "file_extension": ".py",
   "mimetype": "text/x-python",
   "name": "python",
   "nbconvert_exporter": "python",
   "pygments_lexer": "ipython3",
   "version": "3.7.0"
  }
 },
 "nbformat": 4,
 "nbformat_minor": 2
}
