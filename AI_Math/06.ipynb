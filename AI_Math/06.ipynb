{
 "cells": [
  {
   "cell_type": "code",
   "execution_count": 13,
   "metadata": {},
   "outputs": [],
   "source": [
    "from numpy import *\n",
    "\n",
    "def loadDataSet(fileName):      #general function to parse tab -delimited floats\n",
    "    dataMat = []                #assume last column is target value\n",
    "    fr = open(fileName)\n",
    "    for line in fr.readlines():\n",
    "        curLine = line.strip().split('\\t')\n",
    "        fltLine = list(map(float,curLine)) #map all elements to float()\n",
    "        dataMat.append(fltLine)\n",
    "    return dataMat\n",
    "\n",
    "def distEclud(vecA, vecB):\n",
    "    return sqrt(sum(power(vecA - vecB, 2))) #la.norm(vecA-vecB)\n",
    "\n",
    "def randCent(dataSet, k):\n",
    "    n = shape(dataSet)[1]\n",
    "    print('n:',n)\n",
    "    centroids = mat(zeros((k,n)))#create centroid mat\n",
    "    for j in range(n):#create random cluster centers, within bounds of each dimension\n",
    "        minJ = min(dataSet[:,j]) \n",
    "        maxJ = max(dataSet[:,j])\n",
    "        rangeJ = float(maxJ-minJ)\n",
    "        centroids[:,j] = mat(minJ + rangeJ * random.rand(k,1))\n",
    "    return centroids"
   ]
  },
  {
   "cell_type": "code",
   "execution_count": 14,
   "metadata": {},
   "outputs": [
    {
     "data": {
      "text/plain": [
       "matrix([[ 1.658985,  4.285136],\n",
       "        [-3.453687,  3.424321],\n",
       "        [ 4.838138, -1.151539],\n",
       "        [-5.379713, -3.362104],\n",
       "        [ 0.972564,  2.924086],\n",
       "        [-3.567919,  1.531611],\n",
       "        [ 0.450614, -3.302219],\n",
       "        [-3.487105, -1.724432],\n",
       "        [ 2.668759,  1.594842],\n",
       "        [-3.156485,  3.191137],\n",
       "        [ 3.165506, -3.999838],\n",
       "        [-2.786837, -3.099354],\n",
       "        [ 4.208187,  2.984927],\n",
       "        [-2.123337,  2.943366],\n",
       "        [ 0.704199, -0.479481],\n",
       "        [-0.39237 , -3.963704],\n",
       "        [ 2.831667,  1.574018],\n",
       "        [-0.790153,  3.343144],\n",
       "        [ 2.943496, -3.357075],\n",
       "        [-3.195883, -2.283926]])"
      ]
     },
     "execution_count": 14,
     "metadata": {},
     "output_type": "execute_result"
    }
   ],
   "source": [
    "datMat=mat(loadDataSet('testSet.txt'))\n",
    "datMat[:20]"
   ]
  },
  {
   "cell_type": "code",
   "execution_count": 15,
   "metadata": {},
   "outputs": [
    {
     "data": {
      "text/plain": [
       "matrix([[-5.379713]])"
      ]
     },
     "execution_count": 15,
     "metadata": {},
     "output_type": "execute_result"
    }
   ],
   "source": [
    "min(datMat[:, 0])"
   ]
  },
  {
   "cell_type": "code",
   "execution_count": 16,
   "metadata": {},
   "outputs": [
    {
     "data": {
      "text/plain": [
       "matrix([[-4.232586]])"
      ]
     },
     "execution_count": 16,
     "metadata": {},
     "output_type": "execute_result"
    }
   ],
   "source": [
    "min(datMat[:, 1])"
   ]
  },
  {
   "cell_type": "code",
   "execution_count": 17,
   "metadata": {},
   "outputs": [
    {
     "data": {
      "text/plain": [
       "matrix([[5.1904]])"
      ]
     },
     "execution_count": 17,
     "metadata": {},
     "output_type": "execute_result"
    }
   ],
   "source": [
    "max(datMat[:, 1])"
   ]
  },
  {
   "cell_type": "code",
   "execution_count": 18,
   "metadata": {},
   "outputs": [
    {
     "data": {
      "text/plain": [
       "matrix([[4.838138]])"
      ]
     },
     "execution_count": 18,
     "metadata": {},
     "output_type": "execute_result"
    }
   ],
   "source": [
    "max(datMat[:, 0])"
   ]
  },
  {
   "cell_type": "code",
   "execution_count": 19,
   "metadata": {},
   "outputs": [
    {
     "name": "stdout",
     "output_type": "stream",
     "text": [
      "n: 2\n"
     ]
    },
    {
     "data": {
      "text/plain": [
       "matrix([[ 1.82743088, -2.74116135],\n",
       "        [ 2.21322667, -1.9371619 ]])"
      ]
     },
     "execution_count": 19,
     "metadata": {},
     "output_type": "execute_result"
    }
   ],
   "source": [
    "randCent(datMat, 2)"
   ]
  },
  {
   "cell_type": "code",
   "execution_count": 20,
   "metadata": {},
   "outputs": [
    {
     "data": {
      "text/plain": [
       "5.184632816681332"
      ]
     },
     "execution_count": 20,
     "metadata": {},
     "output_type": "execute_result"
    }
   ],
   "source": [
    "distEclud(datMat[0], datMat[1])"
   ]
  },
  {
   "cell_type": "code",
   "execution_count": 23,
   "metadata": {},
   "outputs": [],
   "source": [
    "def kMeans(dataSet, k, distMeans=distEclud, createCent=randCent):\n",
    "    m = shape(dataSet)[0]\n",
    "    clusterAssment = mat(zeros((m,2)))#create mat to assign data points \n",
    "                                      #to a centroid, also holds SE of each point\n",
    "    centroids = createCent(dataSet, k)\n",
    "    clusterChanged = True\n",
    "    while clusterChanged:\n",
    "        clusterChanged = False\n",
    "        for i in range(m):#for each data point assign it to the closest centroid\n",
    "            minDist = inf; minIndex = -1\n",
    "            for j in range(k):\n",
    "                distJ = distMeans(centroids[j,:],dataSet[i,:])\n",
    "            if distJ < minDist:\n",
    "                minDist = distJ\n",
    "                minIndex = j\n",
    "            if clusterAssment[i,0] != minIndex: clusterChanged = True\n",
    "            clusterAssment[i,:] = minIndex,minDist**2\n",
    "        print(centroids)\n",
    "        for cent in range(k):#recalculate centroids\n",
    "            ptsInClust = dataSet[nonzero(clusterAssment[:,0].A==cent)[0]]#get all the point in this cluster\n",
    "            centroids[cent,:] = mean(ptsInClust, axis=0) #assign centroid to mean \n",
    "    return centroids, clusterAssment"
   ]
  },
  {
   "cell_type": "code",
   "execution_count": 24,
   "metadata": {},
   "outputs": [
    {
     "name": "stdout",
     "output_type": "stream",
     "text": [
      "n: 2\n",
      "[[ 1.1842938  -2.91805192]\n",
      " [ 4.19591572  2.5065043 ]\n",
      " [-4.27688641  0.28582366]\n",
      " [ 3.83320176  1.61180022]]\n",
      "[[        nan         nan]\n",
      " [        nan         nan]\n",
      " [        nan         nan]\n",
      " [-0.10361321  0.0543012 ]]\n"
     ]
    },
    {
     "name": "stderr",
     "output_type": "stream",
     "text": [
      "/opt/homebrew/lib/python3.9/site-packages/numpy/matrixlib/defmatrix.py:445: RuntimeWarning: Mean of empty slice.\n",
      "  return N.ndarray.mean(self, axis, dtype, out, keepdims=True)._collapse(axis)\n",
      "/opt/homebrew/lib/python3.9/site-packages/numpy/core/_methods.py:181: RuntimeWarning: invalid value encountered in true_divide\n",
      "  ret = um.true_divide(\n"
     ]
    }
   ],
   "source": [
    "myCentroids, clustAssing = kMeans(datMat, 4)"
   ]
  },
  {
   "cell_type": "code",
   "execution_count": 25,
   "metadata": {},
   "outputs": [
    {
     "data": {
      "text/plain": [
       "matrix([[        nan,         nan],\n",
       "        [        nan,         nan],\n",
       "        [        nan,         nan],\n",
       "        [-0.10361321,  0.0543012 ]])"
      ]
     },
     "execution_count": 25,
     "metadata": {},
     "output_type": "execute_result"
    }
   ],
   "source": [
    "myCentroids"
   ]
  },
  {
   "cell_type": "code",
   "execution_count": 26,
   "metadata": {},
   "outputs": [
    {
     "data": {
      "text/plain": [
       "matrix([[ 3.        , 21.00671556],\n",
       "        [ 3.        , 22.58002783],\n",
       "        [ 3.        , 25.87495563],\n",
       "        [ 3.        , 39.50905346],\n",
       "        [ 3.        ,  9.39382219],\n",
       "        [ 3.        , 14.18385883],\n",
       "        [ 3.        , 11.57339566],\n",
       "        [ 3.        , 14.61190847],\n",
       "        [ 3.        , 10.05931364],\n",
       "        [ 3.        , 19.15976499],\n",
       "        [ 3.        , 27.12318508],\n",
       "        [ 3.        , 17.14523101],\n",
       "        [ 3.        , 27.18018865],\n",
       "        [ 3.        , 12.4259796 ],\n",
       "        [ 3.        ,  0.93748401],\n",
       "        [ 3.        , 16.22774627],\n",
       "        [ 3.        , 10.92540908],\n",
       "        [ 3.        , 11.28782384],\n",
       "        [ 3.        , 20.92236213],\n",
       "        [ 3.        , 15.02943888],\n",
       "        [ 3.        , 13.9108238 ],\n",
       "        [ 3.        ,  9.08132027],\n",
       "        [ 3.        ,  9.1039841 ],\n",
       "        [ 3.        , 18.91193663],\n",
       "        [ 3.        , 18.1832729 ],\n",
       "        [ 3.        ,  7.24620517],\n",
       "        [ 3.        , 11.71807918],\n",
       "        [ 3.        , 25.87495083],\n",
       "        [ 3.        , 16.68660155],\n",
       "        [ 3.        ,  7.16676842],\n",
       "        [ 3.        , 17.71708664],\n",
       "        [ 3.        , 18.1116983 ],\n",
       "        [ 3.        , 11.80959249],\n",
       "        [ 3.        , 12.50147696],\n",
       "        [ 3.        , 20.80523504],\n",
       "        [ 3.        , 18.74493594],\n",
       "        [ 3.        , 30.3501538 ],\n",
       "        [ 3.        ,  5.02559441],\n",
       "        [ 3.        , 16.00397749],\n",
       "        [ 3.        , 24.88835883],\n",
       "        [ 3.        , 19.52335197],\n",
       "        [ 3.        , 15.02274014],\n",
       "        [ 3.        , 22.53711822],\n",
       "        [ 3.        , 22.4491842 ],\n",
       "        [ 3.        , 15.68878147],\n",
       "        [ 3.        , 20.48071045],\n",
       "        [ 3.        , 25.18148607],\n",
       "        [ 3.        , 19.56711782],\n",
       "        [ 3.        , 20.71397209],\n",
       "        [ 3.        , 20.1961611 ],\n",
       "        [ 3.        , 14.20529075],\n",
       "        [ 3.        , 33.74952355],\n",
       "        [ 3.        , 40.99804989],\n",
       "        [ 3.        , 32.8472161 ],\n",
       "        [ 3.        , 18.42964812],\n",
       "        [ 3.        , 24.44992948],\n",
       "        [ 3.        , 10.39096886],\n",
       "        [ 3.        , 12.50535386],\n",
       "        [ 3.        , 14.30981987],\n",
       "        [ 3.        , 22.56332931],\n",
       "        [ 3.        , 14.91538552],\n",
       "        [ 3.        , 14.05599034],\n",
       "        [ 3.        , 28.93611371],\n",
       "        [ 3.        , 10.33208593],\n",
       "        [ 3.        , 27.24542869],\n",
       "        [ 3.        , 14.6723137 ],\n",
       "        [ 3.        , 12.51620814],\n",
       "        [ 3.        , 16.4601474 ],\n",
       "        [ 3.        , 15.49491726],\n",
       "        [ 3.        , 10.82851702],\n",
       "        [ 3.        , 23.32821644],\n",
       "        [ 3.        , 25.23227833],\n",
       "        [ 3.        , 19.63858131],\n",
       "        [ 3.        , 13.35977416],\n",
       "        [ 3.        , 29.62552745],\n",
       "        [ 3.        , 12.09174537],\n",
       "        [ 3.        , 17.86139893],\n",
       "        [ 3.        , 16.01133183],\n",
       "        [ 3.        , 24.31241413],\n",
       "        [ 3.        , 31.85217693]])"
      ]
     },
     "execution_count": 26,
     "metadata": {},
     "output_type": "execute_result"
    }
   ],
   "source": [
    "clustAssing"
   ]
  },
  {
   "cell_type": "code",
   "execution_count": 27,
   "metadata": {},
   "outputs": [],
   "source": [
    "import matplotlib\n",
    "import matplotlib.pyplot as plt\n",
    "def showPlt(datMat, alg=kMeans, numClust=4):\n",
    "    myCentroids, clustAssing = alg(datMat, numClust)\n",
    "    fig = plt.figure()\n",
    "    rect=[0.1,0.1,0.8,0.8]\n",
    "    scatterMarkers=['s', 'o', '^', '8', 'p', \\\n",
    "                    'd', 'v', 'h', '>', '<']\n",
    "    axprops = dict(xticks=[], yticks=[])\n",
    "    ax0=fig.add_axes(rect, label='ax0', **axprops)\n",
    "    ax1=fig.add_axes(rect, label='ax1', frameon=False)\n",
    "    for i in range(numClust):\n",
    "        ptsInCurrCluster = datMat[nonzero(clustAssing[:,0].A==i)[0],:]\n",
    "        markerStyle = scatterMarkers[i % len(scatterMarkers)]\n",
    "        ax1.scatter(ptsInCurrCluster[:,0].flatten().A[0], ptsInCurrCluster[:,1].flatten().A[0], marker=markerStyle, s=90)\n",
    "    ax1.scatter(myCentroids[:,0].flatten().A[0], myCentroids[:,1].flatten().A[0], marker='+', s=300)\n",
    "    plt.show()"
   ]
  },
  {
   "cell_type": "code",
   "execution_count": 28,
   "metadata": {},
   "outputs": [
    {
     "name": "stdout",
     "output_type": "stream",
     "text": [
      "n: 2\n",
      "[[-3.43269665  1.90844007]\n",
      " [ 4.1716264   3.85194792]\n",
      " [ 2.7838267   2.6375598 ]\n",
      " [ 1.31339739 -0.81971048]]\n",
      "[[        nan         nan]\n",
      " [        nan         nan]\n",
      " [        nan         nan]\n",
      " [-0.10361321  0.0543012 ]]\n"
     ]
    },
    {
     "name": "stderr",
     "output_type": "stream",
     "text": [
      "/opt/homebrew/lib/python3.9/site-packages/numpy/matrixlib/defmatrix.py:445: RuntimeWarning: Mean of empty slice.\n",
      "  return N.ndarray.mean(self, axis, dtype, out, keepdims=True)._collapse(axis)\n",
      "/opt/homebrew/lib/python3.9/site-packages/numpy/core/_methods.py:181: RuntimeWarning: invalid value encountered in true_divide\n",
      "  ret = um.true_divide(\n"
     ]
    },
    {
     "data": {
      "image/png": "[encoded data removed]",
      "text/plain": [
       "<Figure size 432x288 with 2 Axes>"
      ]
     },
     "metadata": {
      "needs_background": "light"
     },
     "output_type": "display_data"
    }
   ],
   "source": [
    "showPlt(datMat)"
   ]
  }
 ],
 "metadata": {
  "interpreter": {
   "hash": "b0fa6594d8f4cbf19f97940f81e996739fb7646882a419484c72d19e05852a7e"
  },
  "kernelspec": {
   "display_name": "Python 3.9.12 64-bit",
   "language": "python",
   "name": "python3"
  },
  "language_info": {
   "codemirror_mode": {
    "name": "ipython",
    "version": 3
   },
   "file_extension": ".py",
   "mimetype": "text/x-python",
   "name": "python",
   "nbconvert_exporter": "python",
   "pygments_lexer": "ipython3",
   "version": "3.9.13"
  }
 },
 "nbformat": 4,
 "nbformat_minor": 2
}
