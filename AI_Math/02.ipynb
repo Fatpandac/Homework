{
 "cells": [
  {
   "cell_type": "markdown",
   "metadata": {},
   "source": [
    "# 1"
   ]
  },
  {
   "cell_type": "code",
   "execution_count": 27,
   "metadata": {},
   "outputs": [
    {
     "name": "stdout",
     "output_type": "stream",
     "text": [
      "23.0\n"
     ]
    }
   ],
   "source": [
    "import numpy as np\n",
    "\n",
    "arr = np.array([[3, 5, 7],\n",
    "                [1, 2, 4],\n",
    "                [6, 3, 2]])\n",
    "\n",
    "print(np.linalg.det(arr))"
   ]
  },
  {
   "cell_type": "markdown",
   "metadata": {},
   "source": [
    "# 2"
   ]
  },
  {
   "cell_type": "code",
   "execution_count": 28,
   "metadata": {},
   "outputs": [
    {
     "name": "stdout",
     "output_type": "stream",
     "text": [
      "[[ 7  1 -6]\n",
      " [-3 -7  6]]\n"
     ]
    }
   ],
   "source": [
    "import numpy as np\n",
    "\n",
    "arr = np.array([[1, 3, -2],\n",
    "                [1, -1, 4]])\n",
    "arr1 = np.array([[-3, 1, 2],\n",
    "                 [2, 3, -1]])\n",
    "\n",
    "print(arr - 2 * arr1)"
   ]
  },
  {
   "cell_type": "markdown",
   "metadata": {},
   "source": [
    "# 3\n",
    "\n",
    "$x=2, y=3, z=2$"
   ]
  },
  {
   "cell_type": "markdown",
   "metadata": {},
   "source": [
    "# 4"
   ]
  },
  {
   "cell_type": "code",
   "execution_count": 29,
   "metadata": {},
   "outputs": [
    {
     "name": "stdout",
     "output_type": "stream",
     "text": [
      "[[-4 16]\n",
      " [-3 12]]\n"
     ]
    }
   ],
   "source": [
    "import numpy as np\n",
    "\n",
    "arr = np.array([[-2, 4],\n",
    "                [1, -2]])\n",
    "arr1 = np.array([[2, 4],\n",
    "                 [-3, -6]])\n",
    "\n",
    "print(arr * arr1)"
   ]
  },
  {
   "cell_type": "markdown",
   "metadata": {},
   "source": [
    "# 5"
   ]
  },
  {
   "cell_type": "code",
   "execution_count": 1,
   "metadata": {},
   "outputs": [
    {
     "name": "stdout",
     "output_type": "stream",
     "text": [
      "[[ 0 17]\n",
      " [14 13]\n",
      " [-3 10]]\n"
     ]
    }
   ],
   "source": [
    "import numpy as np\n",
    "\n",
    "matrix = np.matrix([[2, 0, -1],\n",
    "               [1, 3, 2]])\n",
    "matrix1 = np.matrix([[1, 7, -1],\n",
    "               [4, 2, 3],\n",
    "               [2, 0, 1]])\n",
    "x = matrix * matrix1\n",
    "print(x.transpose())"
   ]
  },
  {
   "cell_type": "markdown",
   "metadata": {},
   "source": [
    "# 6"
   ]
  },
  {
   "cell_type": "code",
   "execution_count": 34,
   "metadata": {},
   "outputs": [
    {
     "name": "stdout",
     "output_type": "stream",
     "text": [
      "[[ 0.6 -2.8]\n",
      " [-0.4  1.7]]\n"
     ]
    }
   ],
   "source": [
    "import numpy as np\n",
    "\n",
    "matrix = np.matrix([[3, 2],\n",
    "                    [1, 4]])\n",
    "matrix1 = np.matrix([[1, -5],\n",
    "                     [-1, 4]])\n",
    "\n",
    "print(np.linalg.inv(matrix) * matrix1)"
   ]
  },
  {
   "cell_type": "markdown",
   "metadata": {},
   "source": [
    "# 7"
   ]
  },
  {
   "cell_type": "code",
   "execution_count": 31,
   "metadata": {},
   "outputs": [
    {
     "name": "stdout",
     "output_type": "stream",
     "text": [
      "3\n"
     ]
    }
   ],
   "source": [
    "import numpy as np\n",
    "\n",
    "matrix = np.matrix([[1, -1, 2, 1, 0],\n",
    "                    [2, -2, 4, -2, 0],\n",
    "                    [3, 0, 6, -1, 1],\n",
    "                    [2, -2, 4, 2, 0]])\n",
    "\n",
    "print(np.linalg.matrix_rank(matrix))"
   ]
  },
  {
   "cell_type": "markdown",
   "metadata": {},
   "source": [
    "# 8"
   ]
  },
  {
   "cell_type": "code",
   "execution_count": 32,
   "metadata": {},
   "outputs": [
    {
     "name": "stdout",
     "output_type": "stream",
     "text": [
      "[[-2.00000000e+00  1.00000000e+00 -1.77635684e-16]\n",
      " [-6.50000000e+00  3.00000000e+00 -5.00000000e-01]\n",
      " [-1.60000000e+01  7.00000000e+00 -1.00000000e+00]]\n"
     ]
    }
   ],
   "source": [
    "import numpy as np\n",
    "\n",
    "matrix = np.matrix([[1, 2, -1],\n",
    "                    [3, 4, -2],\n",
    "                    [5, -4, 1]])\n",
    "\n",
    "print(np.linalg.inv(matrix))"
   ]
  },
  {
   "cell_type": "markdown",
   "metadata": {},
   "source": [
    "# 9"
   ]
  },
  {
   "cell_type": "code",
   "execution_count": 33,
   "metadata": {},
   "outputs": [
    {
     "name": "stdout",
     "output_type": "stream",
     "text": [
      "特征值为：\n",
      "[ 3.         -0.99999996 -1.00000004]\n",
      "特征向量为：\n",
      "[[ 0.33333333 -0.40824828 -0.4082483 ]\n",
      " [ 0.66666667 -0.81649658 -0.81649658]\n",
      " [ 0.66666667 -0.4082483  -0.40824828]]\n"
     ]
    }
   ],
   "source": [
    "import numpy as np\n",
    "\n",
    "matrix = np.matrix([[1, -3, 4],\n",
    "                    [4, -7, 8],\n",
    "                    [6, -7, 7]])\n",
    "\n",
    "x = np.linalg.eig(matrix)\n",
    "\n",
    "print(f\"特征值为：\\n{x[0]}\")\n",
    "print(f\"特征向量为：\\n{x[1]}\")"
   ]
  }
 ],
 "metadata": {
  "interpreter": {
   "hash": "b0fa6594d8f4cbf19f97940f81e996739fb7646882a419484c72d19e05852a7e"
  },
  "kernelspec": {
   "display_name": "Python 3.9.12 64-bit",
   "language": "python",
   "name": "python3"
  },
  "language_info": {
   "codemirror_mode": {
    "name": "ipython",
    "version": 3
   },
   "file_extension": ".py",
   "mimetype": "text/x-python",
   "name": "python",
   "nbconvert_exporter": "python",
   "pygments_lexer": "ipython3",
   "version": "3.9.12"
  },
  "orig_nbformat": 4
 },
 "nbformat": 4,
 "nbformat_minor": 2
}
